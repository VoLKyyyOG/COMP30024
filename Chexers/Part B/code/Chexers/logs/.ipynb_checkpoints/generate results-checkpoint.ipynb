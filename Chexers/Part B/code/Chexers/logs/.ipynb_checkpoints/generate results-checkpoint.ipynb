{
 "cells": [
  {
   "cell_type": "code",
   "execution_count": 1,
   "metadata": {},
   "outputs": [
    {
     "data": {
      "application/javascript": [
       "IPython.OutputArea.prototype._should_scroll = function(lines) {\n",
       "    return false;\n",
       "}\n"
      ],
      "text/plain": [
       "<IPython.core.display.Javascript object>"
      ]
     },
     "metadata": {},
     "output_type": "display_data"
    }
   ],
   "source": [
    "%%javascript\n",
    "IPython.OutputArea.prototype._should_scroll = function(lines) {\n",
    "    return false;\n",
    "}"
   ]
  },
  {
   "cell_type": "code",
   "execution_count": 71,
   "metadata": {},
   "outputs": [],
   "source": [
    "import matplotlib.pyplot as plt\n",
    "from collections import defaultdict, Counter\n",
    "import pandas as pd\n",
    "from IPython.display import display\n",
    "import os\n",
    "from pprint import pprint\n",
    "\n",
    "directory = os.path.normpath(\"C:\\\\Users\\\\akira\\\\Documents\\\\GitHub\\\\COMP30024\\\\Chexers\\\\Part B\\\\code\\\\Chexers\\\\logs\")"
   ]
  },
  {
   "cell_type": "code",
   "execution_count": 96,
   "metadata": {},
   "outputs": [
    {
     "name": "stdout",
     "output_type": "stream",
     "text": [
      "blue_random_50.txt empty file\n",
      "blue_random_57.txt empty file\n",
      "green_random_1.txt empty file\n"
     ]
    },
    {
     "data": {
      "image/png": "[encoded data removed]",
      "text/plain": [
       "<Figure size 432x288 with 1 Axes>"
      ]
     },
     "metadata": {
      "needs_background": "light"
     },
     "output_type": "display_data"
    },
    {
     "name": "stdout",
     "output_type": "stream",
     "text": [
      "DRAWS\n",
      "{'blue': ['random'], 'green': [], 'red': []}\n",
      "\n",
      "LOSSES\n",
      "{'blue': ['random', 'random'], 'green': [], 'red': []}\n",
      "\n",
      "AGENT LOSS RATE\n",
      "Counter({'random': 2})\n"
     ]
    },
    {
     "data": {
      "image/png": "[encoded data removed]",
      "text/plain": [
       "<Figure size 432x288 with 1 Axes>"
      ]
     },
     "metadata": {
      "needs_background": "light"
     },
     "output_type": "display_data"
    }
   ],
   "source": [
    "count = {'red': defaultdict(int), 'green': defaultdict(int), 'blue': defaultdict(int)}\n",
    "losses = {'red': list(), 'green': list(), 'blue': list()}\n",
    "draws = {'red': list(), 'green': list(), 'blue': list()}\n",
    "time = {'red': list(), 'green': list(), 'blue': list()}\n",
    "\n",
    "for directory, subdirectories, files in os.walk('.'):\n",
    "    if len(files) < 5:\n",
    "        continue\n",
    "    try:\n",
    "        colour = files[0].split('_')[0]\n",
    "    except:\n",
    "        continue\n",
    "    for file in files:\n",
    "        agent = file.split('_')[1]\n",
    "        try:\n",
    "            f = pd.read_csv(os.path.join(directory, file),sep='\\n')\n",
    "        except:\n",
    "            print(file,\"empty file\")\n",
    "            \n",
    "        time[colour].append(float(''.join(list(f.columns[0])[6:])))\n",
    "        if 'game state occurred 4 times' in ''.join(f.values[0][0]):\n",
    "            draws[colour].append(agent)\n",
    "            count[colour]['draw'] += 1\n",
    "        elif colour in f.values[0][0].casefold():\n",
    "            count[colour]['win'] += 1\n",
    "        else:\n",
    "            losses[colour].append(agent)\n",
    "            count[colour]['loss'] += 1\n",
    "            \n",
    "pd.DataFrame().from_dict(count).plot.bar(color=['r','g','b'])\n",
    "plt.show()\n",
    "\n",
    "print(\"DRAWS\")\n",
    "pprint(draws)\n",
    "print(\"\\nLOSSES\")\n",
    "pprint(losses)\n",
    "\n",
    "print(\"\\nAGENT LOSS RATE\")\n",
    "pprint(Counter([b for a in losses.values() for b in a]))\n",
    "\n",
    "for i in time.keys():\n",
    "    time[i].sort()\n",
    "\n",
    "pd.DataFrame().from_dict(time).plot(color=['r','g','b'])\n",
    "plt.show()"
   ]
  },
  {
   "cell_type": "code",
   "execution_count": null,
   "metadata": {},
   "outputs": [],
   "source": []
  }
 ],
 "metadata": {
  "kernelspec": {
   "display_name": "Python 3",
   "language": "python",
   "name": "python3"
  },
  "language_info": {
   "codemirror_mode": {
    "name": "ipython",
    "version": 3
   },
   "file_extension": ".py",
   "mimetype": "text/x-python",
   "name": "python",
   "nbconvert_exporter": "python",
   "pygments_lexer": "ipython3",
   "version": "3.7.3"
  }
 },
 "nbformat": 4,
 "nbformat_minor": 2
}
