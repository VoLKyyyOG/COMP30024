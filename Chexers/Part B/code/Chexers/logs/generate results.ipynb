{
 "cells": [
  {
   "cell_type": "code",
   "execution_count": 1,
   "metadata": {},
   "outputs": [
    {
     "data": {
      "application/javascript": [
       "IPython.OutputArea.prototype._should_scroll = function(lines) {\n",
       "    return false;\n",
       "}\n"
      ],
      "text/plain": [
       "<IPython.core.display.Javascript object>"
      ]
     },
     "metadata": {},
     "output_type": "display_data"
    }
   ],
   "source": [
    "%%javascript\n",
    "IPython.OutputArea.prototype._should_scroll = function(lines) {\n",
    "    return false;\n",
    "}"
   ]
  },
  {
   "cell_type": "code",
   "execution_count": 2,
   "metadata": {},
   "outputs": [],
   "source": [
    "import matplotlib.pyplot as plt\n",
    "from collections import defaultdict\n",
    "import pandas as pd\n",
    "from IPython.display import display\n",
    "import os\n",
    "from pprint import pprint\n",
    "\n",
    "directory = os.path.normpath(\"C:\\\\Users\\\\akira\\\\Documents\\\\GitHub\\\\COMP30024\\\\Chexers\\\\Part B\\\\code\\\\Chexers\\\\logs\")"
   ]
  },
  {
   "cell_type": "code",
   "execution_count": 42,
   "metadata": {},
   "outputs": [
    {
     "data": {
      "image/png": "[encoded data removed]",
      "text/plain": [
       "<Figure size 432x288 with 1 Axes>"
      ]
     },
     "metadata": {
      "needs_background": "light"
     },
     "output_type": "display_data"
    },
    {
     "name": "stdout",
     "output_type": "stream",
     "text": [
      "DRAWS\n",
      "{'blue': ['random', 'runner', 'runner'],\n",
      " 'green': ['runner',\n",
      "           'runner',\n",
      "           'runner',\n",
      "           'runner',\n",
      "           'runner',\n",
      "           'runner',\n",
      "           'runner'],\n",
      " 'red': ['greedy',\n",
      "         'greedy',\n",
      "         'greedy',\n",
      "         'greedy',\n",
      "         'runner',\n",
      "         'runner',\n",
      "         'runner',\n",
      "         'runner',\n",
      "         'runner',\n",
      "         'runner']}\n",
      "LOSSES\n",
      "{'blue': ['random', 'runner'],\n",
      " 'green': ['runner', 'runner', 'runner'],\n",
      " 'red': ['runner', 'runner']}\n"
     ]
    }
   ],
   "source": [
    "count = {'red': defaultdict(int), 'green': defaultdict(int), 'blue': defaultdict(int)}\n",
    "losses = {'red': list(), 'green': list(), 'blue': list()}\n",
    "draws = {'red': list(), 'green': list(), 'blue': list()}\n",
    "\n",
    "for directory, subdirectories, files in os.walk('.'):\n",
    "    if len(files) == 1:\n",
    "        continue\n",
    "    try:\n",
    "        colour = files[0].split('_')[0]\n",
    "    except:\n",
    "        continue\n",
    "    for file in files:\n",
    "        agent = file.split('_')[1]\n",
    "        f = pd.read_csv(os.path.join(directory, file),sep='\\n')\n",
    "\n",
    "        winner = f.iloc[-1].apply(lambda x: x.casefold()[len('[over ] - winner: '):])\n",
    "        if 'game state occurred 4 times' in ''.join(winner.values):\n",
    "            draws[colour].append(agent)\n",
    "            count[colour]['draw'] += 1\n",
    "        elif colour in winner.values:\n",
    "            count[colour]['win'] += 1\n",
    "        else:\n",
    "            losses[colour].append(agent)\n",
    "            count[colour]['loss'] += 1\n",
    "\n",
    "pd.DataFrame().from_dict(count).plot.bar(color=['r','g','b'])\n",
    "plt.show()\n",
    "\n",
    "print(\"DRAWS\")\n",
    "pprint(draws)\n",
    "\n",
    "print(\"LOSSES\")\n",
    "pprint(losses)"
   ]
  },
  {
   "cell_type": "code",
   "execution_count": 43,
   "metadata": {},
   "outputs": [
    {
     "data": {
      "text/plain": [
       "draw     20\n",
       "loss      7\n",
       "win     153\n",
       "dtype: int64"
      ]
     },
     "execution_count": 43,
     "metadata": {},
     "output_type": "execute_result"
    }
   ],
   "source": [
    "pd.DataFrame().from_dict(count).sum(axis=1)"
   ]
  },
  {
   "cell_type": "code",
   "execution_count": null,
   "metadata": {},
   "outputs": [],
   "source": []
  }
 ],
 "metadata": {
  "kernelspec": {
   "display_name": "Python 3",
   "language": "python",
   "name": "python3"
  },
  "language_info": {
   "codemirror_mode": {
    "name": "ipython",
    "version": 3
   },
   "file_extension": ".py",
   "mimetype": "text/x-python",
   "name": "python",
   "nbconvert_exporter": "python",
   "pygments_lexer": "ipython3",
   "version": "3.7.3"
  }
 },
 "nbformat": 4,
 "nbformat_minor": 2
}
