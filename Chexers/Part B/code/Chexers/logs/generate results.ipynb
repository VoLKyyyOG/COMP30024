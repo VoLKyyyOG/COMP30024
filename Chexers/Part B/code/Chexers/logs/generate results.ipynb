{
 "cells": [
  {
   "cell_type": "code",
   "execution_count": 1,
   "metadata": {},
   "outputs": [
    {
     "data": {
      "application/javascript": [
       "IPython.OutputArea.prototype._should_scroll = function(lines) {\n",
       "    return false;\n",
       "}\n"
      ],
      "text/plain": [
       "<IPython.core.display.Javascript object>"
      ]
     },
     "metadata": {},
     "output_type": "display_data"
    }
   ],
   "source": [
    "%%javascript\n",
    "IPython.OutputArea.prototype._should_scroll = function(lines) {\n",
    "    return false;\n",
    "}"
   ]
  },
  {
   "cell_type": "code",
   "execution_count": 2,
   "metadata": {},
   "outputs": [],
   "source": [
    "import matplotlib.pyplot as plt\n",
    "from collections import defaultdict, Counter\n",
    "import pandas as pd\n",
    "from IPython.display import display\n",
    "import os\n",
    "from pprint import pprint\n",
    "\n",
    "directory = os.path.normpath(\"C:\\\\Users\\\\akira\\\\Documents\\\\GitHub\\\\COMP30024\\\\Chexers\\\\Part B\\\\code\\\\Chexers\\\\logs\")"
   ]
  },
  {
   "cell_type": "markdown",
   "metadata": {},
   "source": [
    "last model random 57. any other is new update"
   ]
  },
  {
   "cell_type": "code",
   "execution_count": 10,
   "metadata": {},
   "outputs": [
    {
     "name": "stdout",
     "output_type": "stream",
     "text": [
      "blue_random_50.txt empty file. game quit unexpectedly (usually a keyboard interrupt)\n",
      "blue_random_57.txt empty file. game quit unexpectedly (usually a keyboard interrupt)\n",
      "blue_random_60.txt empty file. game quit unexpectedly (usually a keyboard interrupt)\n",
      "blue_random_66.txt empty file. game quit unexpectedly (usually a keyboard interrupt)\n",
      "blue_random_78.txt empty file. game quit unexpectedly (usually a keyboard interrupt)\n",
      "blue_random_92.txt empty file. game quit unexpectedly (usually a keyboard interrupt)\n",
      "blue_runner_1.txt empty file. game quit unexpectedly (usually a keyboard interrupt)\n",
      "green_random_1.txt empty file. game quit unexpectedly (usually a keyboard interrupt)\n",
      "green_random_99.txt empty file. game quit unexpectedly (usually a keyboard interrupt)\n"
     ]
    },
    {
     "data": {
      "image/png": "[encoded data removed]",
      "text/plain": [
       "<Figure size 432x288 with 1 Axes>"
      ]
     },
     "metadata": {
      "needs_background": "light"
     },
     "output_type": "display_data"
    },
    {
     "name": "stdout",
     "output_type": "stream",
     "text": [
      "AGENT DRAW RATE\n",
      "Counter({'greedy': 6, 'runner': 5, 'random': 3})\n",
      "\n",
      "AGENT LOSS RATE\n",
      "Counter({'greedy': 12, 'random': 6, 'runner': 1})\n",
      "\n",
      "GAME LOST AS COLOUR\n",
      "{'blue': [38, 48, 65, 66, 98],\n",
      " 'green': [37, 47, 54, 60, 61, 72, 88],\n",
      " 'red': [23, 24, 29, 77, 92, 85, 1]}\n",
      "\n",
      "AGENT OVER 60 SECOND MATCHES\n",
      "Counter({'random': 6})\n",
      "\n",
      "GAME OVERTIME AS COLOUR\n",
      "{'blue': [17, 48, 6, 60], 'green': [42, 85], 'red': []}\n"
     ]
    },
    {
     "data": {
      "image/png": "[encoded data removed]",
      "text/plain": [
       "<Figure size 432x288 with 1 Axes>"
      ]
     },
     "metadata": {
      "needs_background": "light"
     },
     "output_type": "display_data"
    }
   ],
   "source": [
    "count = {'red': defaultdict(int), 'green': defaultdict(int), 'blue': defaultdict(int)}\n",
    "losses = {'red': list(), 'green': list(), 'blue': list()}\n",
    "loss_number = {'red': list(), 'green': list(), 'blue': list()}\n",
    "draws = {'red': list(), 'green': list(), 'blue': list()}\n",
    "time = {'red': list(), 'green': list(), 'blue': list()}\n",
    "overtime = {'red': list(), 'green': list(), 'blue': list()}\n",
    "overtime_number = {'red': list(), 'green': list(), 'blue': list()}\n",
    "\n",
    "for directory, subdirectories, files in os.walk('.'):\n",
    "    if len(files) < 5:\n",
    "        continue\n",
    "    try:\n",
    "        colour = files[0].split('_')[0]\n",
    "    except:\n",
    "        continue\n",
    "    for file in files:\n",
    "        agent = file.split('_')[1]\n",
    "        game_number = int(file.split('_')[2][:-4])\n",
    "        try:\n",
    "            f = pd.read_csv(os.path.join(directory, file),sep='\\n')\n",
    "        except:\n",
    "            print(file,\"empty file. game quit unexpectedly (usually a keyboard interrupt)\")\n",
    "            \n",
    "        match_time = float(''.join(list(f.columns[0])[6:]))\n",
    "        time[colour].append(match_time)\n",
    "        if match_time >= 60:\n",
    "            overtime[colour].append(agent)\n",
    "            overtime_number[colour].append(game_number)\n",
    "        if 'game state occurred 4 times' in ''.join(f.values[0][0]):\n",
    "            draws[colour].append(agent)\n",
    "            count[colour]['draw'] += 1\n",
    "        elif colour in f.values[0][0].casefold():\n",
    "            count[colour]['win'] += 1\n",
    "        else:\n",
    "            losses[colour].append(agent)\n",
    "            count[colour]['loss'] += 1\n",
    "            loss_number[colour].append(game_number)\n",
    "            \n",
    "pd.DataFrame().from_dict(count).plot.bar(color=['r','g','b'])\n",
    "plt.title(\"Match Outcomes\")\n",
    "plt.ylabel(\"Number of Outcomes\")\n",
    "plt.xticks(rotation=0)\n",
    "plt.show()\n",
    "\n",
    "# sort time for a nice graph :)\n",
    "for i in time.keys():\n",
    "    time[i].sort()\n",
    "\n",
    "\n",
    "pd.DataFrame(dict([ (k,pd.Series(v)) for k,v in time.items() ])).plot(color=['r','g','b'])\n",
    "\n",
    "print(\"AGENT DRAW RATE\")\n",
    "pprint(Counter([b for a in draws.values() for b in a]))\n",
    "print(\"\\nAGENT LOSS RATE\")\n",
    "pprint(Counter([b for a in losses.values() for b in a]))\n",
    "print(\"\\nGAME LOST AS COLOUR\")\n",
    "pprint(loss_number)\n",
    "print(\"\\nAGENT OVER 60 SECOND MATCHES\")\n",
    "pprint(Counter([b for a in overtime.values() for b in a]))\n",
    "print(\"\\nGAME OVERTIME AS COLOUR\")\n",
    "pprint(overtime_number)"
   ]
  },
  {
   "cell_type": "code",
   "execution_count": null,
   "metadata": {},
   "outputs": [],
   "source": []
  }
 ],
 "metadata": {
  "kernelspec": {
   "display_name": "Python 3",
   "language": "python",
   "name": "python3"
  },
  "language_info": {
   "codemirror_mode": {
    "name": "ipython",
    "version": 3
   },
   "file_extension": ".py",
   "mimetype": "text/x-python",
   "name": "python",
   "nbconvert_exporter": "python",
   "pygments_lexer": "ipython3",
   "version": "3.7.3"
  }
 },
 "nbformat": 4,
 "nbformat_minor": 2
}
