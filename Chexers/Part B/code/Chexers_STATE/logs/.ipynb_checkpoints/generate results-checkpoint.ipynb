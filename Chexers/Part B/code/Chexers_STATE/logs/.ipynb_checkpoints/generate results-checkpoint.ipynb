{
 "cells": [
  {
   "cell_type": "code",
   "execution_count": 8,
   "metadata": {},
   "outputs": [
    {
     "data": {
      "application/javascript": [
       "IPython.OutputArea.prototype._should_scroll = function(lines) {\n",
       "    return false;\n",
       "}\n"
      ],
      "text/plain": [
       "<IPython.core.display.Javascript object>"
      ]
     },
     "metadata": {},
     "output_type": "display_data"
    }
   ],
   "source": [
    "%%javascript\n",
    "IPython.OutputArea.prototype._should_scroll = function(lines) {\n",
    "    return false;\n",
    "}"
   ]
  },
  {
   "cell_type": "code",
   "execution_count": 9,
   "metadata": {},
   "outputs": [],
   "source": [
    "import matplotlib.pyplot as plt\n",
    "import seaborn as sns\n",
    "col = sns.hls_palette(10)\n",
    "plt.style.use('seaborn')\n",
    "from collections import defaultdict, Counter\n",
    "import pandas as pd\n",
    "from IPython.display import display\n",
    "import os\n",
    "from pprint import pprint\n",
    "\n",
    "directory = os.path.normpath(\"C:\\\\Users\\\\akira\\\\Documents\\\\GitHub\\\\COMP30024\\\\Chexers\\\\Part B\\\\code\\\\Chexers_STATE\\\\logs\")"
   ]
  },
  {
   "cell_type": "code",
   "execution_count": 11,
   "metadata": {
    "scrolled": true
   },
   "outputs": [
    {
     "name": "stdout",
     "output_type": "stream",
     "text": [
      "\n",
      "\n",
      "WIN RATE: 100.0%\n"
     ]
    },
    {
     "data": {
      "image/png": "[encoded data removed]",
      "text/plain": [
       "<Figure size 576x396 with 1 Axes>"
      ]
     },
     "metadata": {},
     "output_type": "display_data"
    },
    {
     "data": {
      "image/png": "[encoded data removed]",
      "text/plain": [
       "<Figure size 576x396 with 1 Axes>"
      ]
     },
     "metadata": {},
     "output_type": "display_data"
    },
    {
     "name": "stdout",
     "output_type": "stream",
     "text": [
      "AGENT DRAW RATE\n",
      "Counter()\n",
      "\n",
      "AGENT LOSS RATE\n",
      "Counter()\n",
      "\n",
      "GAME LOST AS COLOUR\n",
      "{'red': [], 'green': [], 'blue': []}\n",
      "\n",
      "AGENT OVER 60 SECOND MATCHES\n",
      "Counter({'random': 1})\n",
      "\n",
      "GAME OVERTIME AS COLOUR\n",
      "{'red': [2], 'green': [], 'blue': []}\n"
     ]
    }
   ],
   "source": [
    "count = {'red': defaultdict(int), 'green': defaultdict(int), 'blue': defaultdict(int)}\n",
    "losses = {'red': list(), 'green': list(), 'blue': list()}\n",
    "loss_number = {'red': list(), 'green': list(), 'blue': list()}\n",
    "draws = {'red': list(), 'green': list(), 'blue': list()}\n",
    "time = {'red': list(), 'green': list(), 'blue': list()}\n",
    "overtime = {'red': list(), 'green': list(), 'blue': list()}\n",
    "overtime_number = {'red': list(), 'green': list(), 'blue': list()}\n",
    "won = 0\n",
    "total = 0\n",
    "\n",
    "for directory, subdirectories, files in os.walk('.'):\n",
    "    if len(files) < 5:\n",
    "        continue\n",
    "    try:\n",
    "        colour = files[0].split('_')[0]\n",
    "    except:\n",
    "        continue\n",
    "    for file in files:\n",
    "        agent = file.split('_')[1]\n",
    "        game_number = int(file.split('_')[2][:-4])\n",
    "        try:\n",
    "            f = pd.read_csv(os.path.join(directory, file),sep='\\n')\n",
    "        except:\n",
    "            print(file,\"empty file. game quit unexpectedly (usually a keyboard interrupt)\")\n",
    "            continue\n",
    "        try:\n",
    "            match_time = float(''.join(list(f.columns[0])[6:]))\n",
    "        except:\n",
    "            print(f\"INVALID ACTION {file} !!!!\")\n",
    "            continue\n",
    "        total += 1\n",
    "        time[colour].append(match_time)\n",
    "        if match_time >= 60:\n",
    "            overtime[colour].append(agent)\n",
    "            overtime_number[colour].append(game_number)\n",
    "        if 'game state occurred 4 times' in ''.join(f.values[0][0]):\n",
    "            draws[colour].append(agent)\n",
    "            count[colour]['draw'] += 1\n",
    "        elif colour in f.values[0][0].casefold():\n",
    "            count[colour]['win'] += 1\n",
    "            won += 1\n",
    "        else:\n",
    "            losses[colour].append(agent)\n",
    "            count[colour]['loss'] += 1\n",
    "            loss_number[colour].append(game_number)\n",
    "            \n",
    "print(f\"\\n\\nWIN RATE: {100*won/total}%\")\n",
    "            \n",
    "pd.DataFrame().from_dict(count).plot.bar(color=[col[0],col[3],col[6]])\n",
    "plt.title(\"Match Outcomes\")\n",
    "plt.ylabel(\"Number of Outcomes\")\n",
    "plt.xticks(rotation=0)\n",
    "plt.show()\n",
    "\n",
    "# sort time for a nice graph :)\n",
    "for i in time.keys():\n",
    "    time[i].sort()\n",
    "    \n",
    "pd.DataFrame(dict([ (k,pd.Series(v)) for k,v in time.items() ])).plot(color=[col[0],col[3],col[6]])\n",
    "plt.title(\"Time of Matches\")\n",
    "plt.ylabel(\"Time Taken (seconds)\")\n",
    "plt.xlabel(\"Number of Matches\")\n",
    "plt.xticks(rotation=0)\n",
    "plt.show()\n",
    "\n",
    "print(\"AGENT DRAW RATE\")\n",
    "print(Counter([b for a in draws.values() for b in a]))\n",
    "print(\"\\nAGENT LOSS RATE\")\n",
    "print(Counter([b for a in losses.values() for b in a]))\n",
    "print(\"\\nGAME LOST AS COLOUR\")\n",
    "print(loss_number)\n",
    "print(\"\\nAGENT OVER 60 SECOND MATCHES\")\n",
    "print(Counter([b for a in overtime.values() for b in a]))\n",
    "print(\"\\nGAME OVERTIME AS COLOUR\")\n",
    "print(overtime_number)"
   ]
  },
  {
   "cell_type": "code",
   "execution_count": null,
   "metadata": {},
   "outputs": [],
   "source": []
  }
 ],
 "metadata": {
  "kernelspec": {
   "display_name": "Python 3",
   "language": "python",
   "name": "python3"
  },
  "language_info": {
   "codemirror_mode": {
    "name": "ipython",
    "version": 3
   },
   "file_extension": ".py",
   "mimetype": "text/x-python",
   "name": "python",
   "nbconvert_exporter": "python",
   "pygments_lexer": "ipython3",
   "version": "3.7.3"
  }
 },
 "nbformat": 4,
 "nbformat_minor": 2
}
