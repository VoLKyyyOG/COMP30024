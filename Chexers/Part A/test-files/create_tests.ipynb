{
 "cells": [
  {
   "cell_type": "code",
   "execution_count": 1,
   "metadata": {},
   "outputs": [],
   "source": [
    "from random import sample, randint\n",
    "import json"
   ]
  },
  {
   "cell_type": "code",
   "execution_count": 2,
   "metadata": {},
   "outputs": [],
   "source": [
    "def create(valid_coordinates):\n",
    "    \n",
    "    for i in range(1, 501):\n",
    "        colors = [\"red\", \"blue\", \"green\"]\n",
    "        coordinates = valid_coordinates\n",
    "        \n",
    "        outname = \"test\" + str(i) + \".json\"\n",
    "        \n",
    "        no_pieces = randint(1,4)\n",
    "        piece_loc = sample(coordinates, no_pieces)\n",
    "        \n",
    "        no_blocks = randint(0, 6)\n",
    "        potential_loc = [i for i in coordinates if i not in piece_loc]\n",
    "        block_loc = sample(potential_loc, no_blocks)\n",
    "        \n",
    "        data = {\"colour\": ''.join(sample(colors,1)),\n",
    "               \"pieces\": piece_loc,\n",
    "               \"blocks\": block_loc}\n",
    "\n",
    "        with open(outname, 'w') as outfile:\n",
    "            json.dump(data, outfile)"
   ]
  },
  {
   "cell_type": "code",
   "execution_count": 3,
   "metadata": {},
   "outputs": [],
   "source": [
    "valid_coordinates = ((-3, 0), (-3, 1), (-3, 2), (-3, 3),\n",
    "                    (-2, -1), (-2, 0), (-2, 1), (-2, 2), (-2, 3),\n",
    "                    (-1, -2), (-1, -1), (-1, 0), (-1, 1), (-1, 2), (-1, 3),\n",
    "                    (0, -3), (0, -2), (0, -1), (0, 0), (0, 1), (0, 2), (0, 3),\n",
    "                    (1, -3), (1, -2), (1, -1), (1, 0), (1, 1), (1, 2),\n",
    "                    (2, -3), (2, -2), (2, -1), (2, 0), (2, 1),\n",
    "                    (3, -3), (3, -2), (3, -1), (3, 0))"
   ]
  },
  {
   "cell_type": "markdown",
   "metadata": {},
   "source": [
    "# BENCHMARK "
   ]
  },
  {
   "cell_type": "code",
   "execution_count": 4,
   "metadata": {},
   "outputs": [
    {
     "data": {
      "application/javascript": [
       "IPython.OutputArea.prototype._should_scroll = function(lines) {\n",
       "    return false;\n",
       "}\n"
      ],
      "text/plain": [
       "<IPython.core.display.Javascript object>"
      ]
     },
     "metadata": {},
     "output_type": "display_data"
    }
   ],
   "source": [
    "%%javascript\n",
    "IPython.OutputArea.prototype._should_scroll = function(lines) {\n",
    "    return false;\n",
    "}"
   ]
  },
  {
   "cell_type": "code",
   "execution_count": null,
   "metadata": {},
   "outputs": [],
   "source": [
    "import subprocess\n",
    "import matplotlib.pyplot as plt\n",
    "from collections import defaultdict\n",
    "import json\n",
    "import os\n",
    "nodes_generated = defaultdict(int)\n",
    "time_taken = defaultdict(float)\n",
    "directory = os.path.normpath(\"C:\\\\Users\\\\Akira Wang\\\\Documents\\\\GitHub\\\\COMP30024\\\\Chexers\\\\Part A\\\\test-files\")\n",
    "files = [i for i in os.listdir() if '.json' in i]"
   ]
  },
  {
   "cell_type": "code",
   "execution_count": null,
   "metadata": {},
   "outputs": [],
   "source": [
    "# create(valid_coordinates)"
   ]
  },
  {
   "cell_type": "code",
   "execution_count": null,
   "metadata": {},
   "outputs": [
    {
     "name": "stdout",
     "output_type": "stream",
     "text": [
      "1BLOCK.json - 2BLOCK.json - 2BLOCK2.json - 30MOVE.json - 36to1.json - 3BLOCK.json - calvintest.json - over_30_test432.json - PATH.json - test.json - test1.json - test10.json - test100.json - test101.json - test102.json - test103.json - test104.json - test105.json - test106.json - test107.json - test108.json - test109.json - test11.json - test110.json - test111.json - test112.json - test113.json - test114.json - test115.json - test116.json - test117.json - test118.json - test119.json - test12.json - test120.json - test121.json - test122.json - test123.json - test124.json - test125.json - test126.json - test127.json - test128.json - test129.json - test13.json - test130.json - test131.json - test132.json - test133.json - test134.json - test135.json - test136.json - test137.json - test138.json - test139.json - test14.json - test140.json - test141.json - test142.json - test143.json - test144.json - test145.json - test146.json - test147.json - test148.json - test149.json - test15.json - test150.json - test151.json - test152.json - test153.json - test154.json - test155.json - test156.json - test157.json - test158.json - "
     ]
    }
   ],
   "source": [
    "for file in files:\n",
    "    proc = subprocess.Popen(['python', 'search.py',  file], stdout=subprocess.PIPE, stderr=subprocess.STDOUT)\n",
    "    output = proc.communicate()[0].split()\n",
    "    time_taken[file] = float(output[-1])\n",
    "    nodes_generated[file] = int(output[-2])\n",
    "    print(file, end=\" - \")\n",
    "\n",
    "plt.figure(figsize=(20,10))\n",
    "\n",
    "plt.plot(sorted(nodes_generated.values()))\n",
    "plt.yscale('log')\n",
    "plt.xticks(rotation='90')\n",
    "\n",
    "\n",
    "plt.show()\n",
    "\n",
    "plt.figure(figsize=(20,10))\n",
    "plt.plot(sorted(time_taken.values()))\n",
    "plt.xticks(rotation='90')\n",
    "\n",
    "plt.show()\n",
    "\n",
    "print(f\"Number of time greater than 30 seconds: {sum([1 for i in time_taken.values() if i >= 30])}\")\n",
    "print([i for i in time_taken if time_taken[i] > 30])"
   ]
  },
  {
   "cell_type": "code",
   "execution_count": null,
   "metadata": {},
   "outputs": [],
   "source": [
    "time_taken"
   ]
  },
  {
   "cell_type": "code",
   "execution_count": null,
   "metadata": {},
   "outputs": [],
   "source": [
    "nodes_generated"
   ]
  },
  {
   "cell_type": "code",
   "execution_count": null,
   "metadata": {},
   "outputs": [],
   "source": []
  }
 ],
 "metadata": {
  "kernelspec": {
   "display_name": "Python 3",
   "language": "python",
   "name": "python3"
  },
  "language_info": {
   "codemirror_mode": {
    "name": "ipython",
    "version": 3
   },
   "file_extension": ".py",
   "mimetype": "text/x-python",
   "name": "python",
   "nbconvert_exporter": "python",
   "pygments_lexer": "ipython3",
   "version": "3.7.1"
  }
 },
 "nbformat": 4,
 "nbformat_minor": 2
}
