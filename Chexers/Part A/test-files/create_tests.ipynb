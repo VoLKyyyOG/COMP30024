{
 "cells": [
  {
   "cell_type": "code",
   "execution_count": 1,
   "metadata": {},
   "outputs": [],
   "source": [
    "from random import sample, randint\n",
    "import json"
   ]
  },
  {
   "cell_type": "code",
   "execution_count": 2,
   "metadata": {},
   "outputs": [],
   "source": [
    "def create(valid_coordinates):\n",
    "    for i in range(1, 1001):\n",
    "        colors = [\"red\", \"blue\", \"green\"]\n",
    "        coordinates = valid_coordinates\n",
    "        \n",
    "        outname = \"test\" + str(i) + \".json\"\n",
    "        \n",
    "        no_pieces = randint(1,4)\n",
    "        piece_loc = sample(coordinates, no_pieces)\n",
    "        \n",
    "        no_blocks = randint(0, 37 - no_pieces)\n",
    "        potential_loc = [i for i in coordinates if i not in piece_loc]\n",
    "        block_loc = sample(potential_loc, no_blocks)\n",
    "        \n",
    "        data = {\"colour\": ''.join(sample(colors,1)),\n",
    "               \"pieces\": piece_loc,\n",
    "               \"blocks\": block_loc}\n",
    "\n",
    "        with open(outname, 'w') as outfile:\n",
    "            json.dump(data, outfile)"
   ]
  },
  {
   "cell_type": "code",
   "execution_count": 3,
   "metadata": {},
   "outputs": [
    {
     "data": {
      "text/plain": [
       "[[-3, -3],\n",
       " [-3, -2],\n",
       " [-3, -1],\n",
       " [-3, 0],\n",
       " [-3, 1],\n",
       " [-3, 2],\n",
       " [-3, 3],\n",
       " [-2, -3],\n",
       " [-2, -2],\n",
       " [-2, -1],\n",
       " [-2, 0],\n",
       " [-2, 1],\n",
       " [-2, 2],\n",
       " [-2, 3],\n",
       " [-1, -3],\n",
       " [-1, -2],\n",
       " [-1, -1],\n",
       " [-1, 0],\n",
       " [-1, 1],\n",
       " [-1, 2],\n",
       " [-1, 3],\n",
       " [0, -3],\n",
       " [0, -2],\n",
       " [0, -1],\n",
       " [0, 0],\n",
       " [0, 1],\n",
       " [0, 2],\n",
       " [0, 3],\n",
       " [1, -3],\n",
       " [1, -2],\n",
       " [1, -1],\n",
       " [1, 0],\n",
       " [1, 1],\n",
       " [1, 2],\n",
       " [1, 3],\n",
       " [2, -3],\n",
       " [2, -2],\n",
       " [2, -1],\n",
       " [2, 0],\n",
       " [2, 1],\n",
       " [2, 2],\n",
       " [2, 3],\n",
       " [3, -3],\n",
       " [3, -2],\n",
       " [3, -1],\n",
       " [3, 0],\n",
       " [3, 1],\n",
       " [3, 2],\n",
       " [3, 3]]"
      ]
     },
     "execution_count": 3,
     "metadata": {},
     "output_type": "execute_result"
    }
   ],
   "source": [
    "# Generate majority of coordinates\n",
    "[[q, r] for q in range(-3,4) for r in range(-3,4)]"
   ]
  },
  {
   "cell_type": "code",
   "execution_count": 2,
   "metadata": {},
   "outputs": [],
   "source": [
    "# Remove invalid coordinates\n",
    "valid_coordinates = [\n",
    " [-3, 0],\n",
    " [-3, 1],\n",
    " [-3, 2],\n",
    " [-3, 3],\n",
    "\n",
    " [-2, -1],\n",
    " [-2, 0],\n",
    " [-2, 1],\n",
    " [-2, 2],\n",
    " [-2, 3],\n",
    "\n",
    " [-1, -2],\n",
    " [-1, -1],\n",
    " [-1, 0],\n",
    " [-1, 1],\n",
    " [-1, 2],\n",
    " [-1, 3],\n",
    "    \n",
    " [0, -3],\n",
    " [0, -2],\n",
    " [0, -1],\n",
    " [0, 0],\n",
    " [0, 1],\n",
    " [0, 2],\n",
    " [0, 3],\n",
    "    \n",
    " [1, -3],\n",
    " [1, -2],\n",
    " [1, -1],\n",
    " [1, 0],\n",
    " [1, 1],\n",
    " [1, 2],\n",
    " \n",
    " [2, -3],\n",
    " [2, -2],\n",
    " [2, -1],\n",
    " [2, 0],\n",
    " [2, 1],\n",
    " \n",
    " [3, -3],\n",
    " [3, -2],\n",
    " [3, -1],\n",
    " [3, 0]]"
   ]
  },
  {
   "cell_type": "code",
   "execution_count": 3,
   "metadata": {},
   "outputs": [
    {
     "name": "stdout",
     "output_type": "stream",
     "text": [
      "[[-3, 0], [-3, 1], [-3, 2], [-3, 3], [-2, -1], [-2, 0], [-2, 1], [-2, 2], [-2, 3], [-1, -2], [-1, -1], [-1, 0], [-1, 1], [-1, 2], [-1, 3], [0, -3], [0, -2], [0, -1], [0, 0], [0, 1], [0, 2], [0, 3], [1, -3], [1, -2], [1, -1], [1, 0], [1, 1], [1, 2], [2, -3], [2, -2], [2, -1], [2, 0], [2, 1], [3, -3], [3, -2], [3, -1], [3, 0]]\n"
     ]
    }
   ],
   "source": [
    "print(valid_coordinates)"
   ]
  },
  {
   "cell_type": "code",
   "execution_count": null,
   "metadata": {},
   "outputs": [],
   "source": [
    "print(len(valid_coordinates))"
   ]
  },
  {
   "cell_type": "code",
   "execution_count": 6,
   "metadata": {},
   "outputs": [],
   "source": [
    "create(valid_coordinates)"
   ]
  },
  {
   "cell_type": "code",
   "execution_count": null,
   "metadata": {},
   "outputs": [],
   "source": []
  }
 ],
 "metadata": {
  "kernelspec": {
   "display_name": "Python 3",
   "language": "python",
   "name": "python3"
  },
  "language_info": {
   "codemirror_mode": {
    "name": "ipython",
    "version": 3
   },
   "file_extension": ".py",
   "mimetype": "text/x-python",
   "name": "python",
   "nbconvert_exporter": "python",
   "pygments_lexer": "ipython3",
   "version": "3.7.1"
  }
 },
 "nbformat": 4,
 "nbformat_minor": 2
}
