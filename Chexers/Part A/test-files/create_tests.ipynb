{
 "cells": [
  {
   "cell_type": "code",
   "execution_count": 1,
   "metadata": {},
   "outputs": [],
   "source": [
    "from random import sample, randint\n",
    "import json"
   ]
  },
  {
   "cell_type": "code",
   "execution_count": 2,
   "metadata": {},
   "outputs": [],
   "source": [
    "def create():\n",
    "    valid_coordinates = [[-3, 0], [-3, 1], [-3, 2], [-3, 3], [-2, -1], [-2, 0], [-2, 1], [-2, 2], [-2, 3], [-1, -2], [-1, -1], [-1, 0], [-1, 1], [-1, 2], [-1, 3], [0, -3], [0, -2], [0, -1], [0, 0], [0, 1], [0, 2], [0, 3], [1, -3], [1, -2], [1, -1], [1, 0], [1, 1], [1, 2], [2, -3], [2, -2], [2, -1], [2, 0], [2, 1], [3, -3], [3, -2], [3, -1], [3, 0]]\n",
    "    for i in range(1, 101):\n",
    "        colors = [\"red\", \"blue\", \"green\"]\n",
    "        coordinates = valid_coordinates\n",
    "        \n",
    "        outname = \"test\" + str(i) + \".json\"\n",
    "        \n",
    "        no_pieces = randint(1,4)\n",
    "        piece_loc = sample(coordinates, no_pieces)\n",
    "        \n",
    "        no_blocks = randint(0, 6)\n",
    "        potential_loc = [i for i in coordinates if i not in piece_loc]\n",
    "        block_loc = sample(potential_loc, no_blocks)\n",
    "        \n",
    "        data = {\"colour\": ''.join(sample(colors,1)),\n",
    "               \"pieces\": piece_loc,\n",
    "               \"blocks\": block_loc}\n",
    "\n",
    "        with open(outname, 'w') as outfile:\n",
    "            json.dump(data, outfile)"
   ]
  },
  {
   "cell_type": "markdown",
   "metadata": {},
   "source": [
    "# BENCHMARK "
   ]
  },
  {
   "cell_type": "code",
   "execution_count": 3,
   "metadata": {},
   "outputs": [],
   "source": [
    "import subprocess\n",
    "import matplotlib.pyplot as plt\n",
    "from collections import defaultdict\n",
    "nodes_generated = defaultdict(int)\n",
    "time_taken = defaultdict(float)"
   ]
  },
  {
   "cell_type": "code",
   "execution_count": null,
   "metadata": {},
   "outputs": [],
   "source": [
    "create()"
   ]
  },
  {
   "cell_type": "code",
   "execution_count": null,
   "metadata": {},
   "outputs": [],
   "source": [
    "for i in range(1, 101):\n",
    "    file = 'test'+str(i)+'.json'\n",
    "    proc = subprocess.Popen(['python', 'search.py',  file], stdout=subprocess.PIPE, stderr=subprocess.STDOUT)\n",
    "    output = proc.communicate()[0].split()\n",
    "\n",
    "    time_taken[file] = float(output[0])\n",
    "    nodes_generated[file] = int(output[1])\n",
    "\n",
    "print(nodes_generated)\n",
    "print(time_taken)\n",
    "\n",
    "plt.figure(figsize=(20,10))\n",
    "\n",
    "plt.bar(nodes_generated.keys(),nodes_generated.values())\n",
    "plt.yscale('log')\n",
    "plt.xticks(rotation='90')\n",
    "\n",
    "\n",
    "plt.show()\n",
    "\n",
    "plt.figure(figsize=(20,10))\n",
    "plt.bar(time_taken.keys(),time_taken.values())\n",
    "plt.xticks(rotation='90')\n",
    "\n",
    "\n",
    "plt.show()"
   ]
  },
  {
   "cell_type": "code",
   "execution_count": null,
   "metadata": {},
   "outputs": [],
   "source": []
  }
 ],
 "metadata": {
  "kernelspec": {
   "display_name": "Python 3",
   "language": "python",
   "name": "python3"
  },
  "language_info": {
   "codemirror_mode": {
    "name": "ipython",
    "version": 3
   },
   "file_extension": ".py",
   "mimetype": "text/x-python",
   "name": "python",
   "nbconvert_exporter": "python",
   "pygments_lexer": "ipython3",
   "version": "3.7.1"
  }
 },
 "nbformat": 4,
 "nbformat_minor": 2
}
