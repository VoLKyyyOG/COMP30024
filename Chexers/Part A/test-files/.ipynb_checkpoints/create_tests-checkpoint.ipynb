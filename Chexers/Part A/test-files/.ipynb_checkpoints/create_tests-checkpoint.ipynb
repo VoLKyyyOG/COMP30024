{
 "cells": [
  {
   "cell_type": "code",
   "execution_count": 1,
   "metadata": {},
   "outputs": [],
   "source": [
    "from random import sample, randint\n",
    "import json"
   ]
  },
  {
   "cell_type": "code",
   "execution_count": 2,
   "metadata": {},
   "outputs": [],
   "source": [
    "def create(valid_coordinates):\n",
    "    \n",
    "    for i in range(1, 501):\n",
    "        colors = [\"red\", \"blue\", \"green\"]\n",
    "        coordinates = valid_coordinates\n",
    "        \n",
    "        outname = \"test\" + str(i) + \".json\"\n",
    "        \n",
    "        no_pieces = randint(1,4)\n",
    "        piece_loc = sample(coordinates, no_pieces)\n",
    "        \n",
    "        no_blocks = randint(0, 6)\n",
    "        potential_loc = [i for i in coordinates if i not in piece_loc]\n",
    "        block_loc = sample(potential_loc, no_blocks)\n",
    "        \n",
    "        data = {\"colour\": ''.join(sample(colors,1)),\n",
    "               \"pieces\": piece_loc,\n",
    "               \"blocks\": block_loc}\n",
    "\n",
    "        with open(outname, 'w') as outfile:\n",
    "            json.dump(data, outfile)"
   ]
  },
  {
   "cell_type": "code",
   "execution_count": 3,
   "metadata": {},
   "outputs": [],
   "source": [
    "valid_coordinates = ((-3, 0), (-3, 1), (-3, 2), (-3, 3),\n",
    "                    (-2, -1), (-2, 0), (-2, 1), (-2, 2), (-2, 3),\n",
    "                    (-1, -2), (-1, -1), (-1, 0), (-1, 1), (-1, 2), (-1, 3),\n",
    "                    (0, -3), (0, -2), (0, -1), (0, 0), (0, 1), (0, 2), (0, 3),\n",
    "                    (1, -3), (1, -2), (1, -1), (1, 0), (1, 1), (1, 2),\n",
    "                    (2, -3), (2, -2), (2, -1), (2, 0), (2, 1),\n",
    "                    (3, -3), (3, -2), (3, -1), (3, 0))"
   ]
  },
  {
   "cell_type": "markdown",
   "metadata": {},
   "source": [
    "# BENCHMARK "
   ]
  },
  {
   "cell_type": "code",
   "execution_count": 1,
   "metadata": {},
   "outputs": [
    {
     "data": {
      "application/javascript": [
       "IPython.OutputArea.prototype._should_scroll = function(lines) {\n",
       "    return false;\n",
       "}\n"
      ],
      "text/plain": [
       "<IPython.core.display.Javascript object>"
      ]
     },
     "metadata": {},
     "output_type": "display_data"
    }
   ],
   "source": [
    "%%javascript\n",
    "IPython.OutputArea.prototype._should_scroll = function(lines) {\n",
    "    return false;\n",
    "}"
   ]
  },
  {
   "cell_type": "code",
   "execution_count": 25,
   "metadata": {},
   "outputs": [],
   "source": [
    "import subprocess\n",
    "import matplotlib.pyplot as plt\n",
    "from collections import defaultdict\n",
    "import json\n",
    "import os\n",
    "import psutil\n",
    "directory = os.path.normpath(\"C:\\\\Users\\\\Akira Wang\\\\Documents\\\\GitHub\\\\COMP30024\\\\Chexers\\\\Part A\\\\test-files\")\n",
    "files = [i for i in os.listdir() if '.json' in i]"
   ]
  },
  {
   "cell_type": "code",
   "execution_count": 27,
   "metadata": {},
   "outputs": [],
   "source": [
    "# User, System Time\n",
    "(start1, start2) = psutil.cpu_times()[:2]\n",
    "user_time = defaultdict(float)\n",
    "system_time = defaultdict(float)\n",
    "\n"
   ]
  },
  {
   "cell_type": "code",
   "execution_count": 69,
   "metadata": {},
   "outputs": [
    {
     "name": "stdout",
     "output_type": "stream",
     "text": [
      "[b'17929', b'18']\n"
     ]
    }
   ],
   "source": [
    "for file in files:\n",
    "    start1, start2 = psutil.cpu_times()[:2]\n",
    "    proc = subprocess.Popen(['python', 'search.py',  file], stdout=subprocess.PIPE, stderr=subprocess.STDOUT)\n",
    "    end1, end2 = psutil.cpu_times()[:2]\n",
    "    # nodes generated, solution\n",
    "    output = proc.communicate()[0].split()\n",
    "    \n",
    "    \n",
    "    user_time[file] = end1 - start1\n",
    "    system_time[file] = end2 - start2\n",
    "    print(output)\n",
    "    break\n",
    "    \n",
    "    \n",
    "    \n",
    "    \n",
    "    \n",
    "    nodes_generated[file] = int(output[-2])\n",
    "    \n",
    "    print(file, end=\" - \")\n",
    "\n",
    "    \n"
   ]
  },
  {
   "cell_type": "code",
   "execution_count": null,
   "metadata": {},
   "outputs": [],
   "source": [
    "plt.figure(figsize=(20,10))\n",
    "\n",
    "plt.plot(sorted(nodes_generated.values()))\n",
    "plt.yscale('log')\n",
    "plt.xticks(rotation='90')\n",
    "\n",
    "\n",
    "plt.show()\n",
    "\n",
    "plt.figure(figsize=(20,10))\n",
    "plt.plot(sorted(user_time.values()), sorted(system_time.values))\n",
    "plt.xticks(rotation='90')\n",
    "\n",
    "plt.show()"
   ]
  },
  {
   "cell_type": "code",
   "execution_count": null,
   "metadata": {},
   "outputs": [],
   "source": []
  }
 ],
 "metadata": {
  "kernelspec": {
   "display_name": "Python 3",
   "language": "python",
   "name": "python3"
  },
  "language_info": {
   "codemirror_mode": {
    "name": "ipython",
    "version": 3
   },
   "file_extension": ".py",
   "mimetype": "text/x-python",
   "name": "python",
   "nbconvert_exporter": "python",
   "pygments_lexer": "ipython3",
   "version": "3.7.2"
  }
 },
 "nbformat": 4,
 "nbformat_minor": 2
}
