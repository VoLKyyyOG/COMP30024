{
 "cells": [
  {
   "cell_type": "code",
   "execution_count": 11,
   "metadata": {},
   "outputs": [],
   "source": [
    "from random import sample, randint\n",
    "import io\n",
    "import json"
   ]
  },
  {
   "cell_type": "code",
   "execution_count": null,
   "metadata": {},
   "outputs": [],
   "source": []
  },
  {
   "cell_type": "code",
   "execution_count": 33,
   "metadata": {},
   "outputs": [],
   "source": [
    "def create():\n",
    "    for i in range(1, 1001):\n",
    "        colors = [\"red\", \"blue\", \"green\"]\n",
    "        coordinates = [[q, r] for q in range(-3,4) for r in range(-3,4)]\n",
    "        \n",
    "        outname = \"test\" + str(i) + \".json\"\n",
    "        \n",
    "        no_pieces = randint(1,4)\n",
    "        piece_loc = sample(coordinates, no_pieces)\n",
    "        \n",
    "        no_blocks = randint(0, 37 - no_pieces)\n",
    "        potential_loc = [i for i in coordinates if i not in piece_loc]\n",
    "        block_loc = sample(potential_loc, no_blocks)\n",
    "        \n",
    "        data = {\"colour\": ''.join(sample(colors,1)),\n",
    "               \"pieces\": piece_loc,\n",
    "               \"blocks\": block_loc}\n",
    "\n",
    "        with open(outname, 'w') as outfile:\n",
    "            json.dump(data, outfile)"
   ]
  },
  {
   "cell_type": "code",
   "execution_count": 34,
   "metadata": {},
   "outputs": [],
   "source": [
    "create()"
   ]
  },
  {
   "cell_type": "code",
   "execution_count": null,
   "metadata": {},
   "outputs": [],
   "source": []
  }
 ],
 "metadata": {
  "kernelspec": {
   "display_name": "Python 3",
   "language": "python",
   "name": "python3"
  },
  "language_info": {
   "codemirror_mode": {
    "name": "ipython",
    "version": 3
   },
   "file_extension": ".py",
   "mimetype": "text/x-python",
   "name": "python",
   "nbconvert_exporter": "python",
   "pygments_lexer": "ipython3",
   "version": "3.7.1"
  }
 },
 "nbformat": 4,
 "nbformat_minor": 2
}
