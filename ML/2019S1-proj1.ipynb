{
 "cells": [
  {
   "cell_type": "markdown",
   "metadata": {},
   "source": [
    "# The University of Melbourne, School of Computing and Information Systems\n",
    "# COMP30027 Machine Learning, 2019 Semester 1\n",
    "-----\n",
    "## Project 1: Gaining Information about Naive Bayes\n",
    "-----\n",
    "###### Student Name(s): Akira and Callum\n",
    "###### Python version: 3.7.1 from Anaconda \n",
    "###### Submission deadline: 1pm, Fri 5 Apr 2019\n",
    "\n",
    "A good link: https://www.hackerearth.com/blog/machine-learning/introduction-naive-bayes-algorithm-codes-python-r/\n",
    "https://www.machinelearningplus.com/predictive-modeling/how-naive-bayes-algorithm-works-with-example-and-full-code/"
   ]
  },
  {
   "cell_type": "markdown",
   "metadata": {},
   "source": [
    "This iPython notebook is a template which you may use for your Project 1 submission. (You are not required to use it; in particular, there is no need to use iPython if you do not like it.)\n",
    "\n",
    "Marking will be applied on the five functions that are defined in this notebook, and to your responses to the questions at the end of this notebook.\n",
    "\n",
    "You may change the prototypes of these functions, and you may write other functions, according to your requirements. We would appreciate it if the required functions were prominent/easy to find. "
   ]
  },
  {
   "cell_type": "code",
   "execution_count": 1,
   "metadata": {},
   "outputs": [
    {
     "data": {
      "application/javascript": [
       "IPython.OutputArea.prototype._should_scroll = function(lines) {\n",
       "    return false;\n",
       "}\n"
      ],
      "text/plain": [
       "<IPython.core.display.Javascript object>"
      ]
     },
     "metadata": {},
     "output_type": "display_data"
    }
   ],
   "source": [
    "%%javascript\n",
    "IPython.OutputArea.prototype._should_scroll = function(lines) {\n",
    "    return false;\n",
    "}"
   ]
  },
  {
   "cell_type": "code",
   "execution_count": 2,
   "metadata": {},
   "outputs": [],
   "source": [
    "import pandas as pd\n",
    "from IPython.display import display, Latex\n",
    "from collections import *\n",
    "import numpy as np\n",
    "\n",
    "# POSSIBLE CSVs\n",
    "# hypothyroid.csv seems like an easy choice for now\n",
    "d1 =  'anneal.csv'\n",
    "h1 = 'family,product-type,steel,carbon,hardness,temper_rolling,condition,formability,strength,non-ageing,surface-finish,surface-quality,enamelability,bc,bf,bt,bw-me,bl,m,chrom,phos,cbond,marvi,exptl,ferro,corr,bbvc,lustre,jurofm,s,p,shape,oil,bore,packing,class'.split(',')\n",
    "\n",
    "d2 =  'breast-cancer.csv'\n",
    "h2 = 'age,menopause,tumor-size,inv-nodes,node-caps,deg-malig,breast,breast-quad,irradiat,class'.split(',')\n",
    "\n",
    "d3 =  'car.csv'\n",
    "h3 = 'buying,maint,doors,persons,lug_boot,safety,class'.split(',')\n",
    "\n",
    "d4 =  'cmc.csv'\n",
    "h4 = 'w-education,h-education,n-child,w-relation,w-work,h-occupation,standard-of-living,media-exposure,class'.split(',')\n",
    "\n",
    "d5 =  'hepatitis.csv'\n",
    "h5 = 'sex,steroid,antivirals,fatigue,malaise,anorexia,liver-big,liver-firm,spleen-palpable,spiders,ascites,varices,histology,class'.split(',')\n",
    "\n",
    "d6 =  'hypothyroid.csv'\n",
    "h6 = 'sex,on-thyroxine,query-on-thyroxine,on_antithyroid,surgery,query-hypothyroid,query-hyperthyroid,pregnant,sick,tumor,lithium,goitre,TSH,T3,TT4,T4U,FTI,TBG,class'.split(',')\n",
    "\n",
    "d7 =  'mushroom.csv'\n",
    "h7 = 'cap-shape,cap-surface,cap-color,bruises,odor,gill-attachment,gill-spacing,gill-size,gill-color,stalk-shape,stalk-root,stalk-surface-above-ring,stalk-surface-below-ring,stalk-color-above-ring,stalk-color-below-ring,veil-type,veil-color,ring-number,ring-type,spore-print-color,population,habitat,class'.split(',')\n",
    "\n",
    "d8 =  'nursery.csv'\n",
    "h8 = 'parents,has_nurs,form,children,housing,finance,social,health,class'.split(',')\n",
    "\n",
    "d9 = 'primary-tumor.csv'\n",
    "h9 = 'age,sex,histologic-type,degree-of-diffe,bone,bone-marrow,lung,pleura,peritoneum,liver,brain,skin,neck,supraclavicular,axillar,mediastinum,abdominal,class'.split(',')\n",
    "\n",
    "datasets = [d1,d2,d3,d4,d5,d6,d7,d8,d9]\n",
    "dataset_headers = [h1,h2,h3,h4,h5,h6,h7,h8,h9]"
   ]
  },
  {
   "cell_type": "code",
   "execution_count": 3,
   "metadata": {},
   "outputs": [],
   "source": [
    "# Dictionary that holds key 'filename' and values 'attribute names'\n",
    "dictionary = {}\n",
    "\n",
    "for i in range(9):\n",
    "    dictionary[datasets[i]] = dataset_headers[i]"
   ]
  },
  {
   "cell_type": "code",
   "execution_count": 4,
   "metadata": {},
   "outputs": [],
   "source": [
    "# Function that finds the corresponding attribute names\n",
    "def set_column(filename):\n",
    "    return dictionary[filename]"
   ]
  },
  {
   "cell_type": "code",
   "execution_count": 5,
   "metadata": {},
   "outputs": [],
   "source": [
    "# Function I ripped off my previous ETL scripts, slightly modified\n",
    "def describe(filename):\n",
    "    df = pd.read_csv(filename, header = None, names = set_column(filename))\n",
    "    \n",
    "    print(\"**************************************************************************\")\n",
    "    print(f'NAME OF FILE: {filename}')\n",
    "    print(\"**************************************************************************\")\n",
    "    \n",
    "    # General description for dataset\n",
    "    print(f\"Number of rows: {len(df)}\")\n",
    "    print(f\"Number of attributes/columns: {len(df.columns)}\")\n",
    "    print(f\"Column names: [{', '.join(list(df.columns))}]\")\n",
    "    print(f\"Column datatypes: [{', '.join(set(list(df.dtypes.astype(str))))}]\")\n",
    "    print(f\"Shape of dataset: {(df.shape,)}\\n\")\n",
    "    \n",
    "    print(\"**************************************************************************\")\n",
    "\n",
    "    # Double check for missing values\n",
    "    if (df.replace('-', np.NaN).isnull().sum().sum() == 0):\n",
    "        print(\"No missing values and no imputations required.\\n\")\n",
    "    else:\n",
    "        print(f\"Number of missing values = {df.replace('-', np.NaN).isnull().sum().sum()}\")\n",
    "        print(\"Missing values and we require imputations.\\n\")\n",
    "        print(\"Using Average:\")\n",
    "        display(df.mean())\n",
    "        print(\"\\nUsing Median:\")\n",
    "        display(df.median())\n",
    "    \n",
    "    print(\"**************************************************************************\")\n",
    "        \n",
    "    print(\"Number of unique values per attribute:\")\n",
    "    for i in df.columns:\n",
    "        print(f\"{i}: {len(df[i].unique())}\")\n",
    "    \n",
    "    print(\"**************************************************************************\")\n",
    "    \n",
    "    verify_prob = 0\n",
    "    \n",
    "    # MODIFIED SECTION\n",
    "    print('Prior Probabilities:')\n",
    "          \n",
    "    priors = {}\n",
    "    for i in df['class'].unique():    \n",
    "        \n",
    "        # Number of class labels / number of instances\n",
    "        prob = len(df.loc[df['class'] == i]) / len(df)\n",
    "        \n",
    "        verify_prob += prob\n",
    "        \n",
    "        print(f\"Pr({i}) = {prob}\")\n",
    "        \n",
    "        priors[i] = prob\n",
    "        \n",
    "    # Just in case we break any axioms\n",
    "    if verify_prob != 1:\n",
    "        print('You just broke an axiom. Sum of all probs != 1')\n",
    "        \n",
    "        return \"????\"\n",
    "          \n",
    "    print(\"**************************************************************************\")\n",
    "    display(df.head(10))"
   ]
  },
  {
   "cell_type": "code",
   "execution_count": 39,
   "metadata": {},
   "outputs": [
    {
     "data": {
      "text/plain": [
       "0.25165562913907286"
      ]
     },
     "metadata": {},
     "output_type": "display_data"
    },
    {
     "data": {
      "text/plain": [
       "0.28884462151394424"
      ]
     },
     "metadata": {},
     "output_type": "display_data"
    }
   ],
   "source": [
    "# Calculate the Posterior Probability\n",
    "df = pd.read_csv('hypothyroid.csv', header = None, names = set_column('hypothyroid.csv'))\n",
    "\n",
    "priors = {}\n",
    "test = defaultdict(lambda: defaultdict(lambda: defaultdict(float)))\n",
    "\n",
    "for label in df['class'].unique():    \n",
    "    # Number of class labels / number of instances\n",
    "    N = len(df)\n",
    "    prob = len(df.loc[df['class'] == label]) / N\n",
    "    \n",
    "    # Dictionary of Prior Probabilities\n",
    "    # print(f\"Pr({label}) = {prob}\")\n",
    "    priors[label] = prob\n",
    "    \n",
    "    for attribute in df.columns[:-1]:\n",
    "        # for each attribute given the class\n",
    "        df1 = df.loc[df['class'] == label, [attribute,'class']]\n",
    "        \n",
    "        # Number of instances corresponding to attribute given class\n",
    "        n = len(df1)\n",
    "        \n",
    "        # REPLACED WITH COUNTER\n",
    "        count = Counter(df1[attribute])\n",
    "        ### display(count)\n",
    "        for i in count:\n",
    "            test[label][attribute][i] = count[i] / n\n",
    "\n",
    "# Uncomment to see the sin I have created\n",
    "### print(test)\n",
    "        \n",
    "# Let say I wanted Pr(Sex = M | hypothyroid) and Pr(Sex = M | negative)\n",
    "display(test['hypothyroid']['sex']['M'])\n",
    "display(test['negative']['sex']['M'])"
   ]
  },
  {
   "cell_type": "code",
   "execution_count": null,
   "metadata": {},
   "outputs": [],
   "source": [
    "# This function should open a data file in csv, and transform it into a usable format \n",
    "def preprocess(filename):\n",
    "    # Read in csv and add the column header\n",
    "    df = pd.read_csv(filename, header = None, names = set_column(filename))\n",
    "    \n",
    "    # Output uses the script above \n",
    "    # Comment it out or remove it for the actual submission\n",
    "    \n",
    "    # TODO: impute missing values (?), return a matrix?\n"
   ]
  },
  {
   "cell_type": "code",
   "execution_count": null,
   "metadata": {},
   "outputs": [],
   "source": [
    "# This function should build a supervised NB model\n",
    "def train():\n",
    "    return"
   ]
  },
  {
   "cell_type": "code",
   "execution_count": null,
   "metadata": {},
   "outputs": [],
   "source": [
    "# This function should predict the class for an instance or a set of instances, based on a trained model \n",
    "def predict():\n",
    "    return"
   ]
  },
  {
   "cell_type": "code",
   "execution_count": null,
   "metadata": {},
   "outputs": [],
   "source": [
    "# This function should evaluate a set of predictions, in a supervised context \n",
    "def evaluate():\n",
    "    return"
   ]
  },
  {
   "cell_type": "code",
   "execution_count": null,
   "metadata": {},
   "outputs": [],
   "source": [
    "# This function should calculate the Information Gain of an attribute or a set of attribute, with respect to the class\n",
    "def info_gain():\n",
    "    return"
   ]
  },
  {
   "cell_type": "markdown",
   "metadata": {},
   "source": [
    "Questions (you may respond in a cell or cells below):\n",
    "\n",
    "1. The Naive Bayes classifiers can be seen to vary, in terms of their effectiveness on the given datasets (e.g. in terms of Accuracy). Consider the Information Gain of each attribute, relative to the class distribution — does this help to explain the classifiers’ behaviour? Identify any results that are particularly surprising, and explain why they occur.\n",
    "2. The Information Gain can be seen as a kind of correlation coefficient between a pair of attributes: when the gain is low, the attribute values are uncorrelated; when the gain is high, the attribute values are correlated. In supervised ML, we typically calculate the Infomation Gain between a single attribute and the class, but it can be calculated for any pair of attributes. Using the pair-wise IG as a proxy for attribute interdependence, in which cases are our NB assumptions violated? Describe any evidence (or indeed, lack of evidence) that this is has some effect on the effectiveness of the NB classifier.\n",
    "3. Since we have gone to all of the effort of calculating Infomation Gain, we might as well use that as a criterion for building a “Decision Stump” (1-R classifier). How does the effectiveness of this classifier compare to Naive Bayes? Identify one or more cases where the effectiveness is notably different, and explain why.\n",
    "4. Evaluating the model on the same data that we use to train the model is considered to be a major mistake in Machine Learning. Implement a hold–out or cross–validation evaluation strategy. How does your estimate of effectiveness change, compared to testing on the training data? Explain why. (The result might surprise you!)\n",
    "5. Implement one of the advanced smoothing regimes (add-k, Good-Turing). Does changing the smoothing regime (or indeed, not smoothing at all) affect the effectiveness of the Naive Bayes classifier? Explain why, or why not.\n",
    "6. Naive Bayes is said to elegantly handle missing attribute values. For the datasets with missing values, is there any evidence that the performance is different on the instances with missing values, compared to the instances where all of the values are present? Does it matter which, or how many values are missing? Would a imputation strategy have any effect on this?\n",
    "\n",
    "Don't forget that groups of 1 student should respond to question (1), and one other question of your choosing. Groups of 2 students should respond to question (1) and question (2), and two other questions of your choosing. Your responses should be about 150-250 words each."
   ]
  },
  {
   "cell_type": "code",
   "execution_count": null,
   "metadata": {},
   "outputs": [],
   "source": []
  }
 ],
 "metadata": {
  "kernelspec": {
   "display_name": "Python 3",
   "language": "python",
   "name": "python3"
  },
  "language_info": {
   "codemirror_mode": {
    "name": "ipython",
    "version": 3
   },
   "file_extension": ".py",
   "mimetype": "text/x-python",
   "name": "python",
   "nbconvert_exporter": "python",
   "pygments_lexer": "ipython3",
   "version": "3.7.1"
  }
 },
 "nbformat": 4,
 "nbformat_minor": 2
}
